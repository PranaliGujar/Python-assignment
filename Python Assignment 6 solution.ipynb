{
 "cells": [
  {
   "cell_type": "code",
   "execution_count": null,
   "id": "fc1544f7-e5fe-40d2-8078-5a3e3c16fe13",
   "metadata": {},
   "outputs": [],
   "source": [
    "1. What are escape characters, and how do you use them?\n",
    "ANS:\n",
    "    To insert characters that are illegal in a string, use an escape character. An escape character is a backslash \\ followed by the character you \n",
    "    want to insert."
   ]
  },
  {
   "cell_type": "code",
   "execution_count": null,
   "id": "eeee71c5-d778-4b7b-9d90-1c84c5d7fc47",
   "metadata": {},
   "outputs": [],
   "source": [
    "2. What do the escape characters n and t stand for?\n",
    "ANS:\n",
    "    An escape sequence is a sequence of characters that, when used inside a character or string, does not represent itself but is converted into \n",
    "    another character or series of characters that may be difficult or impossible to express directly, like newline (\\n), tab (\\t), and so on."
   ]
  },
  {
   "cell_type": "code",
   "execution_count": null,
   "id": "8b14fbc3-1c53-4541-b1f3-6be1e53924f1",
   "metadata": {},
   "outputs": [],
   "source": [
    "3. What is the way to include backslash characters in a string?\n",
    "ANS:\n",
    "    \"\\\\Tasks\""
   ]
  },
  {
   "cell_type": "code",
   "execution_count": null,
   "id": "8c377d23-c9d4-4ab6-b32f-a6ef2b240fe0",
   "metadata": {},
   "outputs": [],
   "source": [
    "4. The string \"Howl's Moving Castle\" is a correct value. Why isn't the single quote character in the word Howl's not escaped a problem?\n",
    "ANS:\n",
    "    The single quote in Howl's is fine because you've used double quotes to mark the beginning and end of the string."
   ]
  },
  {
   "cell_type": "code",
   "execution_count": null,
   "id": "82c67832-ec87-440d-acc7-10e6371f7575",
   "metadata": {},
   "outputs": [],
   "source": [
    "5. How do you write a string of newlines if you don't want to use the n character?\n",
    "ANS:\n",
    "     including “\\n” , “\\r”, or “\\r\\n” at the end of our string."
   ]
  },
  {
   "cell_type": "code",
   "execution_count": 6,
   "id": "1cf6ede8-55b7-465c-8179-3989fbb06e1c",
   "metadata": {},
   "outputs": [],
   "source": [
    "6. What are the values of the given expressions?\n",
    "'Hello, world!'[1]------->'e'\n",
    "'Hello, world!'[0:5]----->'hello'\n",
    "'Hello, world!'[:5]-------->'hello'\n",
    "'Hello, world!'[3:]--------->'lo world!'"
   ]
  },
  {
   "cell_type": "code",
   "execution_count": 12,
   "id": "43e42a03-f28e-4c7a-adc5-6bb9a424245e",
   "metadata": {},
   "outputs": [],
   "source": [
    "7. What are the values of the following expressions?\n",
    "'Hello'.upper()------------->'HELLO'\n",
    "'Hello'.upper().isupper()----->True\n",
    "'Hello'.upper().lower()-------->'hello'"
   ]
  },
  {
   "cell_type": "code",
   "execution_count": 14,
   "id": "a15c6824-4509-4a1c-befd-b0ad120c4e47",
   "metadata": {},
   "outputs": [],
   "source": [
    "8. What are the values of the following expressions?\n",
    "'Remember, remember, the fifth of July.'.split()\n",
    "'-'.join('There can only one.'.split())\n",
    "ANS:\n",
    "    'There-can -only -one'"
   ]
  },
  {
   "cell_type": "code",
   "execution_count": null,
   "id": "e3a9cbfe-19db-43c9-8451-81362b9d39bf",
   "metadata": {},
   "outputs": [],
   "source": [
    "9. What are the methods for right-justifying, left-justifying, and centering a string?\n",
    "ANS:\n",
    "    rjust() , center() , or ljust()"
   ]
  },
  {
   "cell_type": "code",
   "execution_count": null,
   "id": "0963172b-78da-4d89-9fd3-107eadf727d1",
   "metadata": {},
   "outputs": [],
   "source": [
    "10. What is the best way to remove whitespace characters from the start or end?\n",
    "ANS:\n",
    "    Use the .lstrip() method to remove whitespace and characters only from the beginning of a string."
   ]
  }
 ],
 "metadata": {
  "kernelspec": {
   "display_name": "Python 3 (ipykernel)",
   "language": "python",
   "name": "python3"
  },
  "language_info": {
   "codemirror_mode": {
    "name": "ipython",
    "version": 3
   },
   "file_extension": ".py",
   "mimetype": "text/x-python",
   "name": "python",
   "nbconvert_exporter": "python",
   "pygments_lexer": "ipython3",
   "version": "3.10.6"
  }
 },
 "nbformat": 4,
 "nbformat_minor": 5
}
