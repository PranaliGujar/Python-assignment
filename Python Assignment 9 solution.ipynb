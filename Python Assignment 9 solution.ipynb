{
 "cells": [
  {
   "cell_type": "code",
   "execution_count": null,
   "id": "cb8050bf-d3bd-4d38-afe8-379582e03345",
   "metadata": {},
   "outputs": [],
   "source": [
    "1. To what does a relative path refer?\n",
    "ANS:\n",
    "    A relative path is a link that points to a file location on the page where the link is located. "
   ]
  },
  {
   "cell_type": "code",
   "execution_count": null,
   "id": "e37570c9-2fb0-418b-baae-dcf46af237d4",
   "metadata": {},
   "outputs": [],
   "source": [
    "2. What does an absolute path start with your operating system?\n",
    "ANS:\n",
    "    Absolute path is a complete path from start of actual filesystem from / directory."
   ]
  },
  {
   "cell_type": "code",
   "execution_count": null,
   "id": "8aefd84a-d5d2-4dda-846c-b8c60befc95f",
   "metadata": {},
   "outputs": [],
   "source": [
    "3. What do the functions os.getcwd() and os.chdir() do?\n",
    "ANS:\n",
    "    getcwd() : CWD stands for Current Working Directory. This function allows you to see what your current working directory is. \n",
    "    chdir(\"path-to-dir\") : Short for CHange DIRectory, this function allows you to set the current working directory to a path of your \n",
    "    choice."
   ]
  },
  {
   "cell_type": "code",
   "execution_count": null,
   "id": "ae00d642-9998-4a32-9db3-2a426216832d",
   "metadata": {},
   "outputs": [],
   "source": [
    "4. What are the . and .. folders?\n",
    "ANS:\n",
    "    "
   ]
  },
  {
   "cell_type": "code",
   "execution_count": null,
   "id": "ae620333-2a2f-42e2-9971-f21e65a1e3a8",
   "metadata": {},
   "outputs": [],
   "source": [
    "5. In C:\\bacon\\eggs\\spam.txt, which part is the dir name, and which part is the base name?\n",
    "ANS:\n",
    "     C:\\bacon\\eggs is the dir name, while spam. txt is the base name."
   ]
  },
  {
   "cell_type": "code",
   "execution_count": null,
   "id": "9dc25ba6-d604-4dcf-a91e-ceb2d1d751ba",
   "metadata": {},
   "outputs": [],
   "source": [
    "6. What are the three “mode” arguments that can be passed to the open() function?\n",
    "ANS:\n",
    "    read\n",
    "    write\n",
    "    append"
   ]
  },
  {
   "cell_type": "code",
   "execution_count": null,
   "id": "cf8b712a-6924-4c8b-8222-ee4249b78a28",
   "metadata": {},
   "outputs": [],
   "source": [
    "7. What happens if an existing file is opened in write mode?\n",
    "ANS:\n",
    "    A new empty file with write mode is created. "
   ]
  },
  {
   "cell_type": "code",
   "execution_count": null,
   "id": "cbfde75a-5825-4220-9a61-f9c70d4bfb49",
   "metadata": {},
   "outputs": [],
   "source": [
    "8. How do you tell the difference between read() and readlines()?\n",
    "ANS:\n",
    "    The read() will read the whole file at once and then print out the first characters that take up as many bytes as you specify in the \n",
    "    parenthesis versus the readline() that will read and print out only the first characters that take up as many bytes as you specify in \n",
    "    the parenthesis."
   ]
  },
  {
   "cell_type": "code",
   "execution_count": null,
   "id": "dccd1c30-d92c-48a6-bacb-89b9c49cf28e",
   "metadata": {},
   "outputs": [],
   "source": [
    "9. What data structure does a shelf value resemble?\n",
    "ANS:\n",
    "    A shelf value resembles a dictionary value; it has keys and values, along with keys() and values() methods that work similarly to the \n",
    "    dictionary methods of the same names."
   ]
  }
 ],
 "metadata": {
  "kernelspec": {
   "display_name": "Python 3 (ipykernel)",
   "language": "python",
   "name": "python3"
  },
  "language_info": {
   "codemirror_mode": {
    "name": "ipython",
    "version": 3
   },
   "file_extension": ".py",
   "mimetype": "text/x-python",
   "name": "python",
   "nbconvert_exporter": "python",
   "pygments_lexer": "ipython3",
   "version": "3.10.6"
  }
 },
 "nbformat": 4,
 "nbformat_minor": 5
}
