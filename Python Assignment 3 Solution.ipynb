{
 "cells": [
  {
   "cell_type": "code",
   "execution_count": null,
   "id": "aa4db18b-49ea-4572-81dc-d52a61fca6c9",
   "metadata": {},
   "outputs": [],
   "source": [
    "1. Why are functions advantageous to have in your programs?\n",
    "Ans:\n",
    "    Functions reduce the need for duplicate code. This makes programs shorter, easier to read, and easier to update."
   ]
  },
  {
   "cell_type": "code",
   "execution_count": null,
   "id": "65188940-05ad-44c4-a99e-22acec5a35a2",
   "metadata": {},
   "outputs": [],
   "source": [
    "2. When does the code in a function run: when it's specified or when it's called?\n",
    "Ans:\n",
    "    The code in a function executes when the function is called, not when the function is defined."
   ]
  },
  {
   "cell_type": "code",
   "execution_count": null,
   "id": "8410ecf2-964a-4747-a00a-35b8514e71d1",
   "metadata": {},
   "outputs": [],
   "source": [
    "3. What statement creates a function?\n",
    "Ans:\n",
    "    To create a function, we must first declare it and give it a name, the same way we'd create any variable, and then we follow it by a \n",
    "    function definition: var sayHello = function() { }; We could put any code inside that function - one statement, multiple statements -\n",
    "    depends on what we want to do."
   ]
  },
  {
   "cell_type": "code",
   "execution_count": null,
   "id": "a3b805fa-8089-4771-93dc-64803a7807b3",
   "metadata": {},
   "outputs": [],
   "source": [
    "4. What is the difference between a function and a function call?\n",
    "Ans:\n",
    "    A function is a block of code that does a particular operation and returns a result. It usually accepts inputs as parameters and \n",
    "    returns a result. The parameters are not mandatory. A function call is the code used to pass control to a function."
   ]
  },
  {
   "cell_type": "code",
   "execution_count": null,
   "id": "83ac1f2c-d7ff-41fd-87b1-69e109658e5b",
   "metadata": {},
   "outputs": [],
   "source": [
    "5. How many global scopes are there in a Python program? How many local scopes?\n",
    "Ans:\n",
    "At any given time during execution, you'll have at most four active Python scopes—local, enclosing, global, and built-in—depending on \n",
    "where you are in the code. On the other hand, you'll always have at least two active scopes, which are the global and built-in scopes."
   ]
  },
  {
   "cell_type": "code",
   "execution_count": null,
   "id": "09e4f577-c012-422b-915c-7de15cf453f0",
   "metadata": {},
   "outputs": [],
   "source": [
    "6. What happens to variables in a local scope when the function call returns?\n",
    "Ans:\n",
    "    Each call of the function creates new local variables, and their lifetimes expire when the function returns to the caller."
   ]
  },
  {
   "cell_type": "code",
   "execution_count": null,
   "id": "62e5dcd5-bbb6-4281-8c3b-7076982e7fb1",
   "metadata": {},
   "outputs": [],
   "source": [
    "7. What is the concept of a return value? Is it possible to have a return value in an expression?\n",
    "Ans:\n",
    "    A return is a value that a function returns to the calling script or function when it completes its task.If the data type of the \n",
    "expression is different from the function return type, conversion of the return value takes place as if the value of the expression were \n",
    "assigned to an object with the same function return type. For a function of return type void , a return statement is not strictly necessary.\n"
   ]
  },
  {
   "cell_type": "code",
   "execution_count": null,
   "id": "3c51a2cc-12f6-4b1c-8af8-d505234b942a",
   "metadata": {},
   "outputs": [],
   "source": [
    "8. If a function does not have a return statement, what is the return value of a call to that function?\n",
    "Ans:\n",
    "    If no return statement appears in a function definition, control automatically returns to the calling function after the last statement\n",
    "of the called function is executed. In this case, the return value of the called function is undefined."
   ]
  },
  {
   "cell_type": "code",
   "execution_count": null,
   "id": "18197f5c-a212-4a1f-878a-57f5d0e67ac9",
   "metadata": {},
   "outputs": [],
   "source": [
    "9. How do you make a function variable refer to the global variable?\n",
    "Ans:\n",
    "    when you create a variable inside a function, that variable is local, and can only be used inside that function. To create a global \n",
    "    variable inside a function, you can use the global keyword."
   ]
  },
  {
   "cell_type": "code",
   "execution_count": null,
   "id": "6ee2f4bc-2cb6-46ce-aae1-394c845b3db9",
   "metadata": {},
   "outputs": [],
   "source": [
    "10. What is the data type of None?\n",
    "Ans:\n",
    "    The None keyword is used to define a null value, or no value at all. None is not the same as 0, False, or an empty string. None is a\n",
    "    data type of its own (NoneType) and only None can be None."
   ]
  },
  {
   "cell_type": "code",
   "execution_count": null,
   "id": "8ce1f8a8-6249-43c5-8714-12dd48b20ae7",
   "metadata": {},
   "outputs": [],
   "source": [
    "11. What does the sentence import areallyourpetsnamederic do?\n",
    "Ans:\n",
    "    imports a module named areallyourpetsnamederic."
   ]
  },
  {
   "cell_type": "code",
   "execution_count": null,
   "id": "29c3dfbe-d334-4812-b31f-70a648531d21",
   "metadata": {},
   "outputs": [],
   "source": [
    "12. If you had a bacon() feature in a spam module, what would you call it after importing spam?\n",
    "Ans:\n",
    "    This function can be called with spam. bacon()."
   ]
  },
  {
   "cell_type": "code",
   "execution_count": null,
   "id": "31a501ef-62e4-4a62-94f5-5994ca144efa",
   "metadata": {},
   "outputs": [],
   "source": [
    "13. What can you do to save a programme from crashing if it encounters an error?\n",
    "Ans:\n",
    "    use break and the loop will end.\n",
    "use pass and the program will pass to the next instruction."
   ]
  },
  {
   "cell_type": "code",
   "execution_count": null,
   "id": "68f99b23-d806-4857-997f-c2e8738c2651",
   "metadata": {},
   "outputs": [],
   "source": [
    "14. What is the purpose of the try clause? What is the purpose of the except clause?\n",
    "Ans:\n",
    "    The try block lets you test a block of code for errors. The except block lets you handle the error. "
   ]
  }
 ],
 "metadata": {
  "kernelspec": {
   "display_name": "Python 3 (ipykernel)",
   "language": "python",
   "name": "python3"
  },
  "language_info": {
   "codemirror_mode": {
    "name": "ipython",
    "version": 3
   },
   "file_extension": ".py",
   "mimetype": "text/x-python",
   "name": "python",
   "nbconvert_exporter": "python",
   "pygments_lexer": "ipython3",
   "version": "3.10.6"
  }
 },
 "nbformat": 4,
 "nbformat_minor": 5
}
