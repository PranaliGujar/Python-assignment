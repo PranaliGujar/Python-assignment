{
 "cells": [
  {
   "cell_type": "code",
   "execution_count": null,
   "id": "6920abdd-e5a8-48bc-9db4-c3e9c784d607",
   "metadata": {},
   "outputs": [],
   "source": [
    "1. Is the Python Standard Library included with PyInputPlus?\n",
    "ANS:\n",
    "    PyInputPlus is not a part of the Python Standard Library, we must install it separately using Pip."
   ]
  },
  {
   "cell_type": "code",
   "execution_count": null,
   "id": "1e2fea31-df6a-49a3-8508-fc47403be2e5",
   "metadata": {},
   "outputs": [],
   "source": [
    "2. Why is PyInputPlus commonly imported with import pyinputplus as pypi?\n",
    "ANS:\n",
    "    You can import the module with import pyinputplus as pyip so that you can enter a shorter name when calling the module's functions.\n",
    "    PyInputPlus has functions for entering a variety of input, including strings, numbers, dates, yes/no, True/False, emails, and files."
   ]
  },
  {
   "cell_type": "code",
   "execution_count": null,
   "id": "96c0bf80-6045-46e1-8df5-16aca7dd3c48",
   "metadata": {},
   "outputs": [],
   "source": [
    "3. How do you distinguish between inputInt() and inputFloat()?\n",
    "ANS:\n",
    "    The inputInt() function returns an integer, while the inputFloat() function returns a float value. The inputFloat() function returns an \n",
    "    integer, while the inputInt() function returns a float."
   ]
  },
  {
   "cell_type": "code",
   "execution_count": null,
   "id": "fc903d8c-8273-4b5f-8677-20898fe9c23f",
   "metadata": {},
   "outputs": [],
   "source": [
    "4. Using PyInputPlus, how do you ensure that the user enters a whole number between 0 and 99?\n",
    "ANS:\n",
    "    By using pyip. inputint(min=1, max=100) B."
   ]
  },
  {
   "cell_type": "code",
   "execution_count": null,
   "id": "4a370d59-ce9b-4cf1-b343-bb697fab14ad",
   "metadata": {},
   "outputs": [],
   "source": [
    "5. What is transferred to the keyword arguments allowRegexes and blockRegexes?\n",
    "ANS:\n",
    "    keyword arguments take a list of regular expression strings to determine what the PyInputPlus function will accept or reject as valid \n",
    "    input."
   ]
  },
  {
   "cell_type": "code",
   "execution_count": null,
   "id": "557edd50-96a0-4f87-9ecc-dd39c7d36d8e",
   "metadata": {},
   "outputs": [],
   "source": [
    "6. If a blank input is entered three times, what does inputStr(limit=3) do?\n",
    "ANS:\n",
    "    It will throw RetryLimitException exception."
   ]
  },
  {
   "cell_type": "code",
   "execution_count": null,
   "id": "22f4f6ba-2446-4dc5-9f24-e8ddbb5f19e2",
   "metadata": {},
   "outputs": [],
   "source": [
    "7. If blank input is entered three times, what does inputStr(limit=3, default='hello') do?\n",
    "ANS:\n",
    "    Blank values are not allowed."
   ]
  }
 ],
 "metadata": {
  "kernelspec": {
   "display_name": "Python 3 (ipykernel)",
   "language": "python",
   "name": "python3"
  },
  "language_info": {
   "codemirror_mode": {
    "name": "ipython",
    "version": 3
   },
   "file_extension": ".py",
   "mimetype": "text/x-python",
   "name": "python",
   "nbconvert_exporter": "python",
   "pygments_lexer": "ipython3",
   "version": "3.10.6"
  }
 },
 "nbformat": 4,
 "nbformat_minor": 5
}
