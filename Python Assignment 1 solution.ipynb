{
 "cells": [
  {
   "cell_type": "code",
   "execution_count": null,
   "id": "c702fbb3-7d18-4cec-bb32-3a937190c246",
   "metadata": {},
   "outputs": [],
   "source": [
    "1. In the below elements which of them are values or an expression? eg:- values can be integer or string and expressions will be \n",
    "mathematical operators.\n",
    "* \n",
    "'hello'\n",
    "-87.8\n",
    "- \n",
    "/ \n",
    "    • \n",
    "6 \n",
    "\n",
    "Ans:\n",
    "    Following are the values:\n",
    "        'hello'\n",
    "        -87.8\n",
    "        6\n",
    "    Following are expressions:\n",
    "        *\n",
    "        -\n",
    "        /\n",
    "        ."
   ]
  },
  {
   "cell_type": "code",
   "execution_count": null,
   "id": "1d86659c-4711-4035-a3a4-8020da5b4134",
   "metadata": {},
   "outputs": [],
   "source": [
    "2. What is the difference between string and variable?\n",
    "Ans:\n",
    "    String: Is the datatype we can use string to fill up a variable. string is denoted by 'str'\n",
    "    \n",
    "    Variable: It is the symbol that can be use to store data or values in a program. variable can be in capital or small letter \n",
    "              without using special characters except '_' underscore."
   ]
  },
  {
   "cell_type": "code",
   "execution_count": null,
   "id": "0970eb9b-2b3f-44de-b2e6-730a52b18304",
   "metadata": {},
   "outputs": [],
   "source": [
    "3. Describe three different data types.\n",
    "Ans:\n",
    "   1) Strings: Example of string-\"Hello!\", \"23.34\".\n",
    "      strings are denoted by 'str'.\n",
    "      Text - anything between\" \"  becomes string,\t\n",
    "      strings areImmutable.\n",
    "   2)Integers:E xample of integer-5364.\n",
    "      integer is denotes by int.\n",
    "      it is a whole number.\t\n",
    "      integer are Immutable.\n",
    "   3)Floats:Example of float-3.1415,\n",
    "      float is denoted by float\n",
    "      it is a Decimal Numbers,\t\n",
    "      float isImmutable."
   ]
  },
  {
   "cell_type": "code",
   "execution_count": null,
   "id": "ebfd6ef6-5758-4119-9881-2347a57698e0",
   "metadata": {},
   "outputs": [],
   "source": [
    "4. What is an expression made up of? What do all expressions do?\n",
    "Ans:\n",
    "    The combination of operands and operators is called an expression. The expression in Python produces some value or result after being \n",
    "    interpreted by the Python interpreter. An expression in Python is a combination of operators and operands. An example of expression \n",
    "    can be : x = a*b,y=a/b,z=a-b,q=a+b\n",
    "    "
   ]
  },
  {
   "cell_type": "code",
   "execution_count": null,
   "id": "d441bf57-2b98-4936-ba48-b7f86f414b4e",
   "metadata": {},
   "outputs": [],
   "source": [
    "5. This assignment statements, like spam = 10. What is the difference between an expression and a statement?\n",
    "Ans:\n",
    "    The Main Differences Between an Expression and a Statement in Programming is Expressions can be assigned or used as operands, \n",
    "    while statements can only be declared. Statements create side effects to be useful, while expressions are values or execute to values.\n",
    "    Example: spam=10\n",
    "    in above example value 10 is assigned to variable name spam, eaual to'=' is the expression used to fill up variable name spam which\n",
    "    holds the vale 10"
   ]
  },
  {
   "cell_type": "code",
   "execution_count": null,
   "id": "af6e4b6f-4163-4d98-9bb0-877ffe65e34d",
   "metadata": {},
   "outputs": [],
   "source": [
    "6. After running the following code, what does the variable bacon contain?\n",
    "bacon = 22\n",
    "bacon + 1\n",
    "Ans:\n",
    "    after running the code we get output as 23, But variable bacon contains value 22"
   ]
  },
  {
   "cell_type": "code",
   "execution_count": null,
   "id": "d430438f-f29a-4b7e-8ff7-8437904fb2bd",
   "metadata": {},
   "outputs": [],
   "source": [
    "7. What should the values of the following two terms be?\n",
    "'spam' + 'spamspam'\n",
    "'spam' * 3\n",
    "Ans:'spamspamspam'\n",
    "    "
   ]
  },
  {
   "cell_type": "code",
   "execution_count": null,
   "id": "7e45606c-1b65-4a3a-acb4-51983d747a01",
   "metadata": {},
   "outputs": [],
   "source": [
    "8. Why is eggs a valid variable name while 100 is invalid?\n",
    "Ans:\n",
    "    egg is a valid variable name because variable name can be any word or words with '_' underscore between.\n",
    "    but variable name cannot start with any numerics value and special character except '_'underscore.\n",
    "    numeric values can be in between variable name but not at starting so 100 is invalid variable name."
   ]
  },
  {
   "cell_type": "code",
   "execution_count": null,
   "id": "9dc4ebd4-6165-4732-a314-76756a3dbcfd",
   "metadata": {},
   "outputs": [],
   "source": [
    "9. What three functions can be used to get the integer, floating-point number, or string version of a value?\n",
    "Ans:\n",
    "    The int() , float() , and str( ) functions will evaluate to the integer, floating-point number, and string versions of the value passed\n",
    "    to them"
   ]
  },
  {
   "cell_type": "code",
   "execution_count": null,
   "id": "f04a312e-611a-4c78-98a8-6baa67480d88",
   "metadata": {},
   "outputs": [],
   "source": [
    "10. Why does this expression cause an error? How can you fix it?\n",
    "'I have eaten ' + 99 + ' burritos.'\n",
    "Ans:\n",
    "    TypeError: can only concatenate str (not \"int\") to str.\n",
    "    this type error can be fixed by converting int 99 to str '99'\n",
    "    'I have eaten' +'99'+ 'burritos'\n"
   ]
  }
 ],
 "metadata": {
  "kernelspec": {
   "display_name": "Python 3 (ipykernel)",
   "language": "python",
   "name": "python3"
  },
  "language_info": {
   "codemirror_mode": {
    "name": "ipython",
    "version": 3
   },
   "file_extension": ".py",
   "mimetype": "text/x-python",
   "name": "python",
   "nbconvert_exporter": "python",
   "pygments_lexer": "ipython3",
   "version": "3.10.6"
  }
 },
 "nbformat": 4,
 "nbformat_minor": 5
}
