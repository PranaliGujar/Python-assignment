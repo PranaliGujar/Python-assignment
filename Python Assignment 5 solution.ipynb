{
 "cells": [
  {
   "cell_type": "code",
   "execution_count": null,
   "id": "ae3eb443-2eb4-4567-add5-796dc61e0e2e",
   "metadata": {},
   "outputs": [],
   "source": [
    "1. What does an empty dictionary's code look like?\n",
    "Ans:\n",
    "     What does an empty dictionary's code look like?"
   ]
  },
  {
   "cell_type": "code",
   "execution_count": null,
   "id": "45ec8067-afb1-48e9-abb7-8d19dd6b688b",
   "metadata": {},
   "outputs": [],
   "source": [
    "2. What is the value of a dictionary value with the key 'foo' and the value 42?\n",
    "Ans:\n",
    "     [foo: '42] {foo: 421 a {foot: 42) Kifoo': 42]] "
   ]
  },
  {
   "cell_type": "code",
   "execution_count": null,
   "id": "aba4c75b-7374-4940-8ed2-b961473215c4",
   "metadata": {},
   "outputs": [],
   "source": [
    "3. What is the most significant distinction between a dictionary and a list?\n",
    "Ans:\n",
    "    A list refers to a collection of various index value pairs like that in the case of an array in C++. A dictionary refers to a hashed \n",
    "    structure of various pairs of keys and values. "
   ]
  },
  {
   "cell_type": "code",
   "execution_count": null,
   "id": "ca867c47-d806-45ef-bce1-7784b1f989d3",
   "metadata": {},
   "outputs": [],
   "source": [
    "4. What happens if you try to access spam['foo'] if spam is {'bar': 100}?\n",
    "Ans:\n",
    "    We get a KeyError error"
   ]
  },
  {
   "cell_type": "code",
   "execution_count": null,
   "id": "2ce4002f-ee3f-4555-9d40-5dc44a7ca0d2",
   "metadata": {},
   "outputs": [],
   "source": [
    "5. If a dictionary is stored in spam, what is the difference between the expressions 'cat' in spam and 'cat' in spam.keys()?\n",
    "Ans:\n",
    "    There is no difference. The in operator checks whether a value exists as a key in the dictionary. 'cat' in spam checks whether there is\n",
    "    a 'cat' key in the dictionary, while 'cat' in spam. values() checks whether there is a value 'cat' for one of the keys in spam ."
   ]
  },
  {
   "cell_type": "code",
   "execution_count": null,
   "id": "cdf64233-ad18-492b-8190-ba0e4cd50fe7",
   "metadata": {},
   "outputs": [],
   "source": [
    "6. If a dictionary is stored in spam, what is the difference between the expressions 'cat' in spam and 'cat' in spam.values()?\n",
    "Ans:\n",
    "    There is no difference. The in operator checks whether a value exists as a key in the dictionary. 'cat' in spam checks whether there is\n",
    "    a 'cat' key in the dictionary, while 'cat' in spam. values() checks whether there is a value 'cat' for one of the keys in spam"
   ]
  },
  {
   "cell_type": "code",
   "execution_count": null,
   "id": "3e6978ef-b8a1-414b-a850-00c9433380f4",
   "metadata": {},
   "outputs": [],
   "source": [
    "7. What is a shortcut for the following code?\n",
    "if 'color' not in spam:\n",
    "spam['color'] = 'black'\n",
    "Ans:\n",
    "    spam.setdefault('color','black')"
   ]
  },
  {
   "cell_type": "code",
   "execution_count": null,
   "id": "66eba1ab-09e6-418c-bb5d-90e40ae232b3",
   "metadata": {},
   "outputs": [],
   "source": [
    "8. How do you \"pretty print\" dictionary values using which module and function?\n",
    "Ans:\n",
    "    The module is pprint.\n",
    "The functions are pprint.pprint() and pprint.pformat()."
   ]
  }
 ],
 "metadata": {
  "kernelspec": {
   "display_name": "Python 3 (ipykernel)",
   "language": "python",
   "name": "python3"
  },
  "language_info": {
   "codemirror_mode": {
    "name": "ipython",
    "version": 3
   },
   "file_extension": ".py",
   "mimetype": "text/x-python",
   "name": "python",
   "nbconvert_exporter": "python",
   "pygments_lexer": "ipython3",
   "version": "3.10.6"
  }
 },
 "nbformat": 4,
 "nbformat_minor": 5
}
