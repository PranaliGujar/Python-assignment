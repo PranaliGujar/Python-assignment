{
 "cells": [
  {
   "cell_type": "code",
   "execution_count": null,
   "id": "2692c437-9de6-40f6-a4dd-3c8fe962e1a1",
   "metadata": {},
   "outputs": [],
   "source": [
    "1. What exactly is []?\n",
    "Ans:\n",
    "    The empty list value, which is a list value that contains no items. This is similar to how '' is the empty string value"
   ]
  },
  {
   "cell_type": "code",
   "execution_count": null,
   "id": "3c21c343-bbe2-4388-8331-d61c2c2f4330",
   "metadata": {},
   "outputs": [],
   "source": [
    "2. In a list of values stored in a variable called spam, how would you assign the value 'hello' as the third value? \n",
    "(Assume [2, 4, 6, 8, 10] are in spam.)\n",
    "Ans:\n",
    "    spam=[2,4,6,8,10]\n",
    "    spam[2]='hello'\n",
    "-------------------------\n",
    "output will be:\n",
    "    spam=[2,4,'hello',8,10]"
   ]
  },
  {
   "cell_type": "code",
   "execution_count": null,
   "id": "c3dafe65-e2dc-447f-ab78-054747d70a21",
   "metadata": {},
   "outputs": [],
   "source": [
    "let's pretend the spam includes the list ['a', 'b', 'c', 'd'] for the next three queries.\n",
    "3. What is the value of spam[int(int('3' * 2) / 11)]?\n",
    "Ans:\n",
    "    spam = ['a', 'b','c','d']\n",
    "spam[int(int('3' * 2) / 11)] # spam[int(33/11)] = spam[3]\n",
    "-----------------------------\n",
    "output will be:\n",
    "    'd'"
   ]
  },
  {
   "cell_type": "code",
   "execution_count": null,
   "id": "b2bc0339-824b-40e2-a3c8-f56b39d7f082",
   "metadata": {},
   "outputs": [],
   "source": [
    "4. What is the value of spam[-1]?\n",
    "Ans:\n",
    "    spam = ['a', 'b','c','d']\n",
    "spam[-1] # negative index # d\n",
    "----------------------------------\n",
    "output will be:\n",
    "    'd'"
   ]
  },
  {
   "cell_type": "code",
   "execution_count": null,
   "id": "e13f7ce6-fffb-4994-9c6a-ec20fd73c419",
   "metadata": {},
   "outputs": [],
   "source": [
    "5. What is the value of spam[:2]?\n",
    "Ans:\n",
    "    spam[:2] # c\n",
    "----------------------------------    \n",
    "output will be:\n",
    "   ['a','b'] "
   ]
  },
  {
   "cell_type": "code",
   "execution_count": null,
   "id": "3594bb0e-0fad-4191-a18e-dddc88d13f16",
   "metadata": {},
   "outputs": [],
   "source": [
    "6. What is the value of bacon.index('cat')?\n",
    "Ans:\n",
    "    bacon = [3.14, 'cat', 11, 'cat', True]\n",
    "bacon.index('cat') # it returns the index of first occurrence of 'cat'\n",
    "--------------------------------------------------------     \n",
    "output will be:\n",
    "1"
   ]
  },
  {
   "cell_type": "code",
   "execution_count": null,
   "id": "2e0c1962-0c95-4ba4-8c62-71a27a9adfe6",
   "metadata": {},
   "outputs": [],
   "source": [
    "7. How does bacon.append(99) change the look of the list value in bacon?\n",
    "Ans:\n",
    "    bacon = [3.14, 'cat', 11, 'cat', True]\n",
    "bacon.append(99) # append adds the item at the end of the list\n",
    "bacon\n",
    "-----------------------------------------------------------------\n",
    "output will be:     \n",
    "[3.14, 'cat', 11, 'cat', True, 99]"
   ]
  },
  {
   "cell_type": "code",
   "execution_count": null,
   "id": "4ab1c4aa-0f49-4e3d-8c6d-09d5f6e43153",
   "metadata": {},
   "outputs": [],
   "source": [
    "8. How does bacon.remove('cat') change the look of the list in bacon?\n",
    "Ans:\n",
    "    bacon = [3.14, 'cat', 11, 'cat', True]\n",
    "bacon.remove('cat') # remove first occurrence of item\n",
    "bacon\n",
    "-----------------------------------------------------     \n",
    "output will be:\n",
    "[3.14, 11, 'cat', True]"
   ]
  },
  {
   "cell_type": "code",
   "execution_count": null,
   "id": "e360de2e-9552-40ae-a839-b772b54b6020",
   "metadata": {},
   "outputs": [],
   "source": [
    "9. What are the list concatenation and list replication operators?\n",
    "Ans:\n",
    "    ( * ) is list replication operator\n",
    "    ( + ) is list concatination operator\n",
    "l1 = [1,4]\n",
    "l2 = [2,5]\n",
    "# list concatination\n",
    "l1+l2\n",
    "\n",
    "l1 = [7,4]\n",
    "\n",
    "# list replication\n",
    "l1*3\n",
    "\n",
    "[1,4,2,5]     \n",
    "[7, 4, 7, 4, 7, 4]\n"
   ]
  },
  {
   "cell_type": "code",
   "execution_count": null,
   "id": "c5e20d45-533f-4f47-aa92-aef64b6459c3",
   "metadata": {},
   "outputs": [],
   "source": [
    "10. What is difference between the list methods append() and insert()?\n",
    "Ans:\n",
    "    bacon = [3.14, 'cat', 11, 'cat', True]\n",
    "bacon.append(99) # append adds the item at the end of the list\n",
    "bacon\n",
    "     \n",
    "[3.14, 'cat', 11, 'cat', True, 99]\n",
    "\n",
    "# solution by inserting value in 3rd index\n",
    "spam = [2, 4, 6, 8, 10]\n",
    "spam.insert(2,'hello')\n",
    "spam\n",
    "     \n",
    "[2, 4, 'hello', 6, 8, 10]"
   ]
  },
  {
   "cell_type": "code",
   "execution_count": null,
   "id": "7f1cd14a-e745-4f4c-a6da-7a93300c8d9e",
   "metadata": {},
   "outputs": [],
   "source": [
    "11. What are the two methods for removing items from a list?\n",
    "Ans:\n",
    "   #remove(item) - removeds first occurence of a item\n",
    "bacon = [3.14, 'cat', 11, 'cat', True]\n",
    "bacon.remove('cat')\n",
    "bacon\n",
    "     \n",
    "[3.14, 11, 'cat', True]\n",
    "\n",
    "#pop() - Remove and returns item at index (default last).\n",
    "bacon = [3.14, 'cat', 11, 'cat', True]\n",
    "bacon.pop()\n",
    "bacon\n",
    "     \n",
    "[3.14, 'cat', 11, 'cat'] "
   ]
  },
  {
   "cell_type": "code",
   "execution_count": null,
   "id": "5f46f474-84e3-4d1a-9f5f-5192d5bc7fa0",
   "metadata": {},
   "outputs": [],
   "source": [
    "12. Describe how list values and string values are identical.\n",
    "Ans:\n",
    "    Both lists and strings can be passed to len()\n",
    "Have indexes and slices\n",
    "Can be used in for loops\n",
    "Can be concatenated or replicated\n",
    "Can be used with the in and not in operators"
   ]
  },
  {
   "cell_type": "code",
   "execution_count": null,
   "id": "76e4fe48-9ba7-4304-bc03-a4b5828498e8",
   "metadata": {},
   "outputs": [],
   "source": [
    "13. What's the difference between tuples and lists?\n",
    "Ans:\n",
    "    Lists : are mutable - they can have values added, removed, or changed. lists use the square brackets, [ and ]\n",
    "Tuples : are immutable; they cannot be changed at all. Tuples are written using parentheses, ( and )"
   ]
  },
  {
   "cell_type": "code",
   "execution_count": null,
   "id": "4e75d965-1fd5-4802-8ca9-a87b024318ac",
   "metadata": {},
   "outputs": [],
   "source": [
    "14. How do you type a tuple value that only contains the integer 42?\n",
    "Ans:\n",
    "    tuple = (42,)\n",
    "tuple\n",
    "     \n",
    "(42,)"
   ]
  },
  {
   "cell_type": "code",
   "execution_count": null,
   "id": "98267412-4ba2-45f2-9117-43d3ac513817",
   "metadata": {},
   "outputs": [],
   "source": [
    "15. How do you get a list value's tuple form? How do you get a tuple value's list form?\n",
    "Ans:\n",
    "   l1 = [2,3]\n",
    "l = tuple(l1)\n",
    "l\n",
    "\n",
    "     \n",
    "(2, 3)\n",
    "\n",
    "t1 = (3,4)\n",
    "t = list(t1)\n",
    "t\n",
    "     \n",
    "[3, 4] "
   ]
  },
  {
   "cell_type": "code",
   "execution_count": null,
   "id": "56f310b1-c44d-4567-ab84-ecc8f234ac5c",
   "metadata": {},
   "outputs": [],
   "source": [
    "16. Variables that \"contain\" list values are not necessarily lists themselves. Instead, what do they contain?\n",
    "Ans:\n",
    "    They contain references to list values"
   ]
  },
  {
   "cell_type": "code",
   "execution_count": null,
   "id": "751ad161-a4f6-49ba-97b4-00665021907e",
   "metadata": {},
   "outputs": [],
   "source": [
    "17. How do you distinguish between copy.copy() and copy.deepcopy()?\n",
    "Ans:\n",
    "   The copy.copy() function will do a shallow copy of a list,\n",
    "The copy.deepcopy() function will do a deep copy of a list. only copy.deepcopy() will duplicate any lists inside the list "
   ]
  }
 ],
 "metadata": {
  "kernelspec": {
   "display_name": "Python 3 (ipykernel)",
   "language": "python",
   "name": "python3"
  },
  "language_info": {
   "codemirror_mode": {
    "name": "ipython",
    "version": 3
   },
   "file_extension": ".py",
   "mimetype": "text/x-python",
   "name": "python",
   "nbconvert_exporter": "python",
   "pygments_lexer": "ipython3",
   "version": "3.10.6"
  }
 },
 "nbformat": 4,
 "nbformat_minor": 5
}
