{
 "cells": [
  {
   "cell_type": "code",
   "execution_count": null,
   "id": "92d0fd91-5b23-4678-b04c-1eee4723a869",
   "metadata": {},
   "outputs": [],
   "source": [
    "1.What are the two values of the Boolean data type? How do you write them?\n",
    "Ans:\n",
    "    A variable of the primitive data type boolean can have two values: true and false (Boolean literals). or off. Boolean expressions use \n",
    "    relational and logical operators. The result of a Boolean expression is either true(1) or false(0)."
   ]
  },
  {
   "cell_type": "code",
   "execution_count": null,
   "id": "e0441ab9-05d8-4303-843e-ae09af963feb",
   "metadata": {},
   "outputs": [],
   "source": [
    "2. What are the three different types of Boolean operators?\n",
    "Ans:\n",
    "    The three basic boolean operators are: AND, OR, and NOT."
   ]
  },
  {
   "cell_type": "code",
   "execution_count": null,
   "id": "6d49d060-d2ee-4394-bd6d-f2f18df7f500",
   "metadata": {},
   "outputs": [],
   "source": [
    "3. Make a list of each Boolean operator's truth tables \n",
    "(i.e. every possible combination of Boolean values for the operator and what it evaluate ).\n",
    "Ans: A,B are inputs and Q is output\n",
    "    1) AND operator: AND operator works on multiplication logic Q=A*B\n",
    "       A|B |Q\n",
    "      0  0  0\n",
    "      0  1  0\n",
    "      1  0  0\n",
    "      1  1  1\n",
    "        AND operator works on multiplication of two input logic.\n",
    "        if both input are high then only we get true(1) as output\n",
    "        if even single or both inputs are 0 we get false(0) as output.\n",
    "        \n",
    "    2)  OR operator:OR operator works on addition logic Q=A+B\n",
    "        A|B|Q\n",
    "        0 0 0\n",
    "        0 1 1\n",
    "        1 0 1\n",
    "        1 1 1\n",
    "        OR operator works on addition of two input logic.\n",
    "        if any one input is high or if both input are high we get true(1) as output\n",
    "        if both input is low we get false(0) as output.\n",
    "        \n",
    "     3)  NOT operator works as inversion\n",
    "         A|Q\n",
    "         0 1\n",
    "         1 0\n",
    "        NOT operator works on compliment of input means if we give high input means true(1) we get output as low false(0)\n",
    "        and vice versa"
   ]
  },
  {
   "cell_type": "code",
   "execution_count": null,
   "id": "921fc5ee-3b45-42ae-88dd-1996cc923f94",
   "metadata": {},
   "outputs": [],
   "source": [
    "4. What are the values of the following expressions?\n",
    "(5 > 4) and (3 == 5)-False\n",
    "not (5 > 4)-False\n",
    "(5 > 4) or (3 == 5)-True\n",
    "not ((5 > 4) or (3 == 5))-False\n",
    "(True and True) and (True == False)\n",
    "(not False) or (not True)"
   ]
  },
  {
   "cell_type": "code",
   "execution_count": null,
   "id": "a39a6666-c44d-415f-8493-2e53f72d3997",
   "metadata": {},
   "outputs": [],
   "source": [
    "5. What are the six comparison operators?\n",
    "Ans:\n",
    "    less than-<\n",
    "    greater than-> \n",
    "    less than or equal to-<=\n",
    "    greater than or equal to->=\n",
    "    equal to-==\n",
    "    and not equal to-!="
   ]
  },
  {
   "cell_type": "code",
   "execution_count": null,
   "id": "083a2193-a39b-4442-8734-3380af813f3a",
   "metadata": {},
   "outputs": [],
   "source": [
    "6. How do you tell the difference between the equal to and assignment operators?Describe a condition and when you would use one.\n",
    "Ans:\n",
    "    Eaual to denoted by '=' this is used to store/assign values or data in variable.\n",
    "    whereas assignment operator denoted by '==' is used to check the condition true(1) or false(0).\n",
    "    EXAMPLE:\n",
    "        a=9\n",
    "        if a==10:\n",
    "            print('value of a',a)\n",
    "            \n",
    "      in the above cose a=9 is used to store the data 9 in variable a. Whereas a==10 is used to check the condition true or false.\n",
    "    we get the output as true(1) when the condition is true, else if the condition is false we get false(0) as output.\n",
    "    "
   ]
  },
  {
   "cell_type": "code",
   "execution_count": null,
   "id": "186d4b00-f0b7-4784-b362-a797c55f8a21",
   "metadata": {},
   "outputs": [],
   "source": [
    "7. Identify the three blocks in this code:\n",
    "spam = 0\n",
    "if spam == 10:\n",
    "print('eggs')\n",
    "if spam > 5:\n",
    "print('bacon')\n",
    "else:\n",
    "print('ham')\n",
    "print('spam')\n",
    "print('spam')\n",
    "Ans:\n",
    "    As 0 value is stored in spam variable. when we check if condition with the help of assignment operator'==' \n",
    "    the condition is false as 0 != 10. so the else part is executed\n",
    "    and the output for the above code will be\n",
    "    \n",
    "    OUTPUT:'ham'\n",
    "           'spam' \n",
    "           'spam'"
   ]
  },
  {
   "cell_type": "code",
   "execution_count": null,
   "id": "91497331-8a39-4b3d-b4f3-f57ed631eed4",
   "metadata": {},
   "outputs": [],
   "source": [
    "8. Write code that prints Hello if 1 is stored in spam, prints Howdy if 2 is stored in spam, and prints Greetings! if anything else is \n",
    "stored in spam.\n",
    "Ans:\n",
    "    spam=int(input('enter a single digit number'))\n",
    "    if spam==1:\n",
    "        print('Hello')\n",
    "    elif spam==2:\n",
    "        print('Howdy')\n",
    "    else:\n",
    "        print('Greetings')\n",
    "    "
   ]
  },
  {
   "cell_type": "code",
   "execution_count": null,
   "id": "8c09611c-8750-4769-86fa-1ddfb15b97de",
   "metadata": {},
   "outputs": [],
   "source": [
    "9.If your programme is stuck in an endless loop, what keys you’ll press\n",
    "Ans:\n",
    "    we can stop an infinite loop with CTRL + C"
   ]
  },
  {
   "cell_type": "code",
   "execution_count": null,
   "id": "c8badbbb-841c-4a09-ac40-46e08604cf79",
   "metadata": {},
   "outputs": [],
   "source": [
    "10. How can you tell the difference between break and continue?\n",
    "Ans:\n",
    "    break is used to terminate the loop\n",
    "    A break statement in Python alters the flow of a loop by terminating it once a specified condition is met. \n",
    "    Continue: The continue statement in Python is used to skip the remaining code inside a loop for the current iteration only.\n",
    "    whereas continue if condition is true the output will go in infinite loop  "
   ]
  },
  {
   "cell_type": "code",
   "execution_count": null,
   "id": "21c5900d-21bb-4489-b1fd-23f6490d1e22",
   "metadata": {},
   "outputs": [],
   "source": [
    "11. In a for loop, what is the difference between range(10), range(0, 10), and range(0, 10, 1)?\n",
    "Ans:\n",
    "    1)range(10)-0,1,2,3,4,5,6,7,8,9\n",
    "    we get 10 elements from 0 to 9 index as range is upper bound so we do not get 10 as output\n",
    "    \n",
    "    2)range(0,10)-0,1,2,3,4,5,6,7,8,9\n",
    "    here the start and end of the range is mentioned \n",
    "    \n",
    "    3)range(0,10,1)-0,1,2,3,4,5,6,7,8,9\n",
    "    here start, end and step size is mentioned\n",
    "    as all the above code will gibe same output \n",
    "    \n",
    "    "
   ]
  },
  {
   "cell_type": "code",
   "execution_count": null,
   "id": "d0fa6df4-8ce9-47b1-b60c-64b3ec0803f5",
   "metadata": {},
   "outputs": [],
   "source": [
    "12. Write a short program that prints the numbers 1 to 10 using a for loop. Then write an equivalent program that prints the numbers\n",
    "1 to 10 using a while loop.\n",
    "Ans:\n",
    "    for i in range(1,11):\n",
    "        print(i)\n",
    "-------------------------------------\n",
    "     i=1\n",
    "    while i<=10:\n",
    "        print(i)\n",
    "        i=i+1\n",
    "--------------------------------------\n",
    "output for for loop and while loop will be\n",
    "1\n",
    "2\n",
    "3\n",
    "4\n",
    "5\n",
    "6\n",
    "7\n",
    "8\n",
    "9\n",
    "10"
   ]
  },
  {
   "cell_type": "code",
   "execution_count": null,
   "id": "7c633401-eb61-4ec4-9730-53d1b23b85de",
   "metadata": {},
   "outputs": [],
   "source": [
    "13. If you had a function named bacon() inside a module named spam, how would you call it after importing spam?\n",
    "Ans:\n",
    "    This function can be called with spam. bacon()"
   ]
  }
 ],
 "metadata": {
  "kernelspec": {
   "display_name": "Python 3 (ipykernel)",
   "language": "python",
   "name": "python3"
  },
  "language_info": {
   "codemirror_mode": {
    "name": "ipython",
    "version": 3
   },
   "file_extension": ".py",
   "mimetype": "text/x-python",
   "name": "python",
   "nbconvert_exporter": "python",
   "pygments_lexer": "ipython3",
   "version": "3.10.6"
  }
 },
 "nbformat": 4,
 "nbformat_minor": 5
}
